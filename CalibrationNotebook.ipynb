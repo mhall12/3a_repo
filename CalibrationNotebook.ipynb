{
 "cells": [
  {
   "cell_type": "code",
   "execution_count": 1,
   "metadata": {},
   "outputs": [],
   "source": [
    "import uproot, awkward\n",
    "import matplotlib.pyplot as plt\n",
    "from matplotlib import cm\n",
    "from matplotlib.colors import ListedColormap, LinearSegmentedColormap, LogNorm\n",
    "import numpy as np\n",
    "import pandas as pd"
   ]
  },
  {
   "cell_type": "code",
   "execution_count": 2,
   "metadata": {},
   "outputs": [],
   "source": [
    "file = uproot.open(\"cal04.root\")"
   ]
  },
  {
   "cell_type": "code",
   "execution_count": 3,
   "metadata": {},
   "outputs": [],
   "source": [
    "tree = file['calibration4']"
   ]
  },
  {
   "cell_type": "markdown",
   "metadata": {},
   "source": [
    "Define a nice cmp for any 2D hists we want later:"
   ]
  },
  {
   "cell_type": "code",
   "execution_count": 4,
   "metadata": {},
   "outputs": [],
   "source": [
    "Greys = cm.get_cmap('Greys', 256)\n",
    "newcolors = Greys(np.linspace(0, 1, 256))\n",
    "white = np.array([1, 1, 1, 0])\n",
    "black = np.array([0, 0, 0, 1])\n",
    "newcolors[:1, :] = white\n",
    "newcolors[1:, :] = black\n",
    "newcmpBlack = ListedColormap(newcolors)"
   ]
  },
  {
   "cell_type": "markdown",
   "metadata": {},
   "source": [
    "In the next cell, take the tree and put all the branches into a data frame, correctly labeled by strip number."
   ]
  },
  {
   "cell_type": "code",
   "execution_count": 5,
   "metadata": {},
   "outputs": [],
   "source": [
    "brancharr = []\n",
    "detnames = [\"U1\", \"D1\", \"R1\", \"L1\", \"U2\", \"D2\", \"R2\", \"L2\"]\n",
    "df = pd.DataFrame()\n",
    "\n",
    "chanlast = 0\n",
    "for adcnum in range(6):\n",
    "    adcnum = adcnum + 8\n",
    "    #print(\"adc: \" + str(adcnum))\n",
    "    if adcnum < 10:\n",
    "        endname = \"_adc0\"\n",
    "    else:\n",
    "        endname = \"_adc\"\n",
    "    if adcnum < 13:\n",
    "        for chnum in range(32):\n",
    "            chan = chnum + 1 + chanlast\n",
    "            if chan < 10:\n",
    "                startname = \"b00\"\n",
    "            elif chan < 100:\n",
    "                startname = \"b0\"\n",
    "            else:\n",
    "                startname = \"b\"\n",
    "            branchname = startname + str(chan) + endname + str(adcnum)\n",
    "            \n",
    "            brancharr.append(branchname)\n",
    "    if adcnum == 13:\n",
    "        for chan in range(2):\n",
    "            chan = chan + 1 + chanlast\n",
    "            branchname = \"b\" + str(chan) + \"_adc\" + str(adcnum)\n",
    "            brancharr.append(branchname)\n",
    "    chanlast = chan\n",
    "\n",
    "#print(brancharr)\n",
    "for i in range(len(brancharr)):\n",
    "    branch = brancharr[i]\n",
    "    if i < 32:\n",
    "        if i < 16:\n",
    "            df[\"U1_\" + str(i) + \"_O\"] = tree.array(branch)\n",
    "        if i > 15:\n",
    "            df[\"U1_\" + str(i-16) + \"_I\"] = tree.array(branch)\n",
    "    elif 31 < i < 64:\n",
    "        if i-32 < 16:\n",
    "            df[\"D1_\" + str(i-32) + \"_O\"] = tree.array(branch)\n",
    "        if i-32 > 15:\n",
    "            df[\"D1_\" + str(i-32-16) + \"_I\"] = tree.array(branch)\n",
    "    elif 63 < i < 96:\n",
    "        if i-64 < 16:\n",
    "            df[\"R1_\" + str(i-64) + \"_O\"] = tree.array(branch)\n",
    "        if i-64 > 15:\n",
    "            df[\"R1_\" + str(i-64-16) + \"_I\"] = tree.array(branch)\n",
    "    elif 95 < i < 128:\n",
    "        if i-96 < 16:\n",
    "            df[\"L1_\" + str(i-96) + \"_O\"] = tree.array(branch)\n",
    "        if i-96 > 15:\n",
    "            df[\"L1_\" + str(i-96-16) + \"_I\"] = tree.array(branch)\n",
    "    elif 127 < i < 144:\n",
    "        df[\"U2_\" + str(i-128)] = tree.array(branch)\n",
    "    elif 143 < i < 160:\n",
    "        df[\"D2_\" + str(i-144)] = tree.array(branch)\n",
    "    elif i == 160:\n",
    "        df[\"R2_0\"] = tree.array(branch)\n",
    "    elif i == 161:\n",
    "        df[\"L2_0\"] = tree.array(branch)"
   ]
  },
  {
   "cell_type": "code",
   "execution_count": 6,
   "metadata": {},
   "outputs": [
    {
     "data": {
      "text/plain": [
       "(array([[71.,  0.,  0., ...,  0.,  0.,  0.],\n",
       "        [ 0.,  0.,  0., ...,  0.,  0.,  0.],\n",
       "        [ 0.,  0.,  0., ...,  0.,  0.,  0.],\n",
       "        ...,\n",
       "        [ 0.,  0.,  0., ...,  0.,  0.,  0.],\n",
       "        [ 0.,  0.,  0., ...,  0.,  0.,  0.],\n",
       "        [ 0.,  0.,  0., ...,  0.,  0.,  0.]]),\n",
       " array([0.000e+00, 1.000e+00, 2.000e+00, ..., 1.898e+03, 1.899e+03,\n",
       "        1.900e+03]),\n",
       " array([0.000e+00, 1.000e+00, 2.000e+00, ..., 1.898e+03, 1.899e+03,\n",
       "        1.900e+03]),\n",
       " <matplotlib.collections.QuadMesh at 0x7f2bf4c37af0>)"
      ]
     },
     "execution_count": 6,
     "metadata": {},
     "output_type": "execute_result"
    },
    {
     "data": {
      "image/png": "[encoded data removed]",
      "text/plain": [
       "<Figure size 432x288 with 1 Axes>"
      ]
     },
     "metadata": {
      "needs_background": "light"
     },
     "output_type": "display_data"
    }
   ],
   "source": [
    "fig, axs = plt.subplots()\n",
    "axs.hist2d(df[\"U1_0_I\"]*.95861, df[\"U1_0_O\"], cmap=newcmpBlack, bins=(1900,1900), range=[[0,1900],[0,1900]])"
   ]
  },
  {
   "cell_type": "code",
   "execution_count": 7,
   "metadata": {
    "scrolled": false
   },
   "outputs": [
    {
     "data": {
      "text/plain": [
       "(array([  125.,   198.,   136.,   634.,   997.,  1340.,  2072.,  2307.,\n",
       "         2220.,  2288.,  1469.,  2055.,  1150.,  1320.,  1352.,  2258.,\n",
       "         1653.,  1822.,  2949.,  1550.,  1863.,  2072.,  2115.,  2343.,\n",
       "         1728.,  1526.,  3058.,  2337.,  1740.,  1540.,  2104.,  1674.,\n",
       "         2304.,  1468.,  1621.,  1631.,  2047.,  1490.,  1442.,   890.,\n",
       "         1596.,  1572.,  1836.,  1515.,  1536.,  2123.,  1304.,  1870.,\n",
       "         1318.,   904.,  1267.,  1430.,  1854.,   952.,  1964.,   865.,\n",
       "         2053.,  1046.,  1209.,  2066.,  1339.,  1209.,   854.,   859.,\n",
       "          458.,   595.,   590.,   405.,   878.,  1846., 11758., 17069.,\n",
       "         8816.,  2761.,   152.,    73.,   192.,    44.,     0.,     0.,\n",
       "            0.,     0.,     0.,     0.,     0.,     0.,     0.,     0.,\n",
       "            0.,     0.,     0.,     0.,     0.,     0.,     0.,     0.,\n",
       "            0.,     0.,     0.,     0.]),\n",
       " array([ 200.,  223.,  246.,  269.,  292.,  315.,  338.,  361.,  384.,\n",
       "         407.,  430.,  453.,  476.,  499.,  522.,  545.,  568.,  591.,\n",
       "         614.,  637.,  660.,  683.,  706.,  729.,  752.,  775.,  798.,\n",
       "         821.,  844.,  867.,  890.,  913.,  936.,  959.,  982., 1005.,\n",
       "        1028., 1051., 1074., 1097., 1120., 1143., 1166., 1189., 1212.,\n",
       "        1235., 1258., 1281., 1304., 1327., 1350., 1373., 1396., 1419.,\n",
       "        1442., 1465., 1488., 1511., 1534., 1557., 1580., 1603., 1626.,\n",
       "        1649., 1672., 1695., 1718., 1741., 1764., 1787., 1810., 1833.,\n",
       "        1856., 1879., 1902., 1925., 1948., 1971., 1994., 2017., 2040.,\n",
       "        2063., 2086., 2109., 2132., 2155., 2178., 2201., 2224., 2247.,\n",
       "        2270., 2293., 2316., 2339., 2362., 2385., 2408., 2431., 2454.,\n",
       "        2477., 2500.]),\n",
       " <a list of 100 Patch objects>)"
      ]
     },
     "execution_count": 7,
     "metadata": {},
     "output_type": "execute_result"
    },
    {
     "data": {
      "image/png": "[encoded data removed]",
      "text/plain": [
       "<Figure size 432x288 with 1 Axes>"
      ]
     },
     "metadata": {
      "needs_background": "light"
     },
     "output_type": "display_data"
    }
   ],
   "source": [
    "plt.hist(df[\"U1_0_O\"]+df[\"U1_0_I\"]*.95861, bins=(100), range=[200, 2500])"
   ]
  },
  {
   "cell_type": "code",
   "execution_count": null,
   "metadata": {},
   "outputs": [],
   "source": []
  }
 ],
 "metadata": {
  "kernelspec": {
   "display_name": "Python 3",
   "language": "python",
   "name": "python3"
  },
  "language_info": {
   "codemirror_mode": {
    "name": "ipython",
    "version": 3
   },
   "file_extension": ".py",
   "mimetype": "text/x-python",
   "name": "python",
   "nbconvert_exporter": "python",
   "pygments_lexer": "ipython3",
   "version": "3.8.3"
  }
 },
 "nbformat": 4,
 "nbformat_minor": 4
}
